{
 "cells": [
  {
   "cell_type": "code",
   "execution_count": 1,
   "id": "a02fd84d",
   "metadata": {},
   "outputs": [
    {
     "name": "stdout",
     "output_type": "stream",
     "text": [
      "momepy imported from custom path: /Users/yutasato/Projects/momepy-yuta\n",
      "city2graph imported from: /Users/yutasato/Projects/city2graph\n",
      "city2graph version: dev\n"
     ]
    }
   ],
   "source": [
    "import os\n",
    "import sys\n",
    "from pathlib import Path\n",
    "import numpy as np\n",
    "import pandas as pd\n",
    "import geopandas as gpd\n",
    "import matplotlib.pyplot as plt\n",
    "from shapely.geometry import Point, LineString, Polygon\n",
    "import networkx as nx\n",
    "\n",
    "# Configure matplotlib for better visualizations\n",
    "plt.rcParams['figure.figsize'] = (12, 10)\n",
    "plt.rcParams['figure.dpi'] = 100\n",
    "plt.style.use('ggplot')\n",
    "\n",
    "# Import momepy - if a custom path exists, use it; otherwise use the installed version\n",
    "momepy_path = Path(os.path.expanduser(\"~/Projects/momepy-yuta\"))\n",
    "if momepy_path.exists():\n",
    "    sys.path.insert(0, str(momepy_path))\n",
    "    import momepy\n",
    "    print(f\"momepy imported from custom path: {momepy_path}\")\n",
    "else:\n",
    "    import momepy\n",
    "    print(\"Using installed momepy package\")\n",
    "\n",
    "# Import city2graph package\n",
    "city2graph_path = Path(os.path.expanduser(\"~/Projects/city2graph\"))\n",
    "if city2graph_path.exists():\n",
    "    sys.path.insert(0, str(city2graph_path))\n",
    "    import city2graph\n",
    "    print(f\"city2graph imported from: {city2graph_path}\")\n",
    "    print(f\"city2graph version: {city2graph.__version__ if hasattr(city2graph, '__version__') else 'dev'}\")"
   ]
  },
  {
   "cell_type": "markdown",
   "id": "b51c19ff",
   "metadata": {},
   "source": [
    "# GTFS Data Processing Functions\n",
    "\n",
    "The General Transit Feed Specification (GTFS) is a standard format for public transportation schedules and associated geographic information. Below are functions to load and process GTFS data from a zip file."
   ]
  },
  {
   "cell_type": "code",
   "execution_count": 107,
   "id": "8f9ed93b",
   "metadata": {},
   "outputs": [
    {
     "name": "stderr",
     "output_type": "stream",
     "text": [
      "INFO:city2graph.transportation_network:Loading GTFS data from itm_london_gtfs.zip...\n",
      "INFO:city2graph.transportation_network:Loaded 10 GTFS files\n",
      "INFO:city2graph.transportation_network:Processing GTFS DataFrames...\n",
      "INFO:city2graph.transportation_network:Creating stops geometry...\n",
      "INFO:city2graph.transportation_network:Creating shapes geometry...\n",
      "INFO:city2graph.transportation_network:GTFS data processing complete\n"
     ]
    }
   ],
   "source": [
    "sample_gtfs_path = Path(\"itm_london_gtfs.zip\")\n",
    "gtfs_data = city2graph.load_gtfs(sample_gtfs_path)"
   ]
  },
  {
   "cell_type": "code",
   "execution_count": 109,
   "id": "1241f07b",
   "metadata": {},
   "outputs": [],
   "source": [
    "# Calculate average travel times and frequencies with optional time filtering.\n",
    "# For example, to filter segments starting after '06:00:00' and ending before '10:00:00':\n",
    "travel_summary_gdf = city2graph.create_travel_summary_network(gtfs_data, calendar_start=\"20250401\", calendar_end=\"20250401\", as_gdf=True)"
   ]
  },
  {
   "cell_type": "code",
   "execution_count": null,
   "id": "fd63047f",
   "metadata": {},
   "outputs": [],
   "source": [
    "import folium\n",
    "\n",
    "# Filter to get only segments with frequency = 1\n",
    "low_frequency_segments = travel_summary_gdf[travel_summary_gdf[\"travel_time\"] < 300]\n",
    "\n",
    "# Create a base map centered on the average coordinates of these segments\n",
    "# Extract the coordinates from each LineString geometry\n",
    "segment_coordinates = []\n",
    "for geom in low_frequency_segments.geometry:\n",
    "    if isinstance(geom, LineString):\n",
    "        first_point = geom.coords[0]\n",
    "        segment_coordinates.append((first_point[1], first_point[0]))  # Folium expects lat,lon\n",
    "\n",
    "if segment_coordinates:\n",
    "    avg_lat = sum(coord[0] for coord in segment_coordinates) / len(segment_coordinates)\n",
    "    avg_lon = sum(coord[1] for coord in segment_coordinates) / len(segment_coordinates)\n",
    "else:\n",
    "    # Fallback to default coordinates\n",
    "    avg_lat, avg_lon = 51.5074, -0.1278\n",
    "\n",
    "# Create a map\n",
    "m_low_freq = folium.Map(location=[avg_lat, avg_lon], zoom_start=7)\n",
    "\n",
    "# Add each segment to the map\n",
    "for idx, row in low_frequency_segments.iterrows():\n",
    "    line_coords = []\n",
    "    for x, y in row.geometry.coords:\n",
    "        line_coords.append([y, x])  # Folium expects [lat, lon]\n",
    "    \n",
    "    # Add the line to the map with tooltip showing travel time\n",
    "    folium.PolyLine(\n",
    "        line_coords,\n",
    "        color='red',\n",
    "        weight=3,\n",
    "        opacity=1,\n",
    "        tooltip=f\"From: {row['from_stop_id']} To: {row['to_stop_id']}<br>Travel Time: {row['travel_time']} seconds\"\n",
    "    ).add_to(m_low_freq)\n",
    "\n",
    "# Add stops from gtfs_data['stops'] as nodes on the map\n",
    "for _, stop in gtfs_data['stops'].iterrows():\n",
    "    folium.CircleMarker(\n",
    "        location=[stop['stop_lat'], stop['stop_lon']],\n",
    "        radius=3,\n",
    "        color='blue',\n",
    "        fill=True,\n",
    "        fill_color='blue',\n",
    "        fill_opacity=1,\n",
    "        popup=stop['stop_name']\n",
    "    ).add_to(m_low_freq)\n",
    "\n",
    "# Display the map with stops added\n",
    "m_low_freq"
   ]
  },
  {
   "cell_type": "code",
   "execution_count": 115,
   "id": "e13ece67",
   "metadata": {},
   "outputs": [
    {
     "data": {
      "text/plain": [
       "<Axes: >"
      ]
     },
     "execution_count": 115,
     "metadata": {},
     "output_type": "execute_result"
    },
    {
     "data": {
      "image/png": "[encoded data removed]",
      "text/plain": [
       "<Figure size 1200x1000 with 1 Axes>"
      ]
     },
     "metadata": {},
     "output_type": "display_data"
    }
   ],
   "source": [
    "travel_summary_gdf[\"frequency\"].hist(bins=100)"
   ]
  },
  {
   "cell_type": "code",
   "execution_count": null,
   "id": "508b67f2",
   "metadata": {},
   "outputs": [],
   "source": [
    "import folium\n",
    "\n",
    "# Create a map centered around the average latitude and longitude of the stops\n",
    "def create_map(gtfs_data):\n",
    "    # Calculate the average latitude and longitude of the stops\n",
    "    avg_lat = gtfs_data['stops']['stop_lat'].mean()\n",
    "    avg_lon = gtfs_data['stops']['stop_lon'].mean()\n",
    "\n",
    "    # Create a folium map centered at the average coordinates\n",
    "    m = folium.Map(location=[avg_lat, avg_lon], zoom_start=12)\n",
    "\n",
    "    # Add all stops to the map\n",
    "    for _, stop in gtfs_data['stops'].iterrows():\n",
    "        folium.Circle(\n",
    "            location=[stop['stop_lat'], stop['stop_lon']],\n",
    "            popup=stop['stop_name']\n",
    "        ).add_to(m)\n",
    "\n",
    "    return m\n",
    "\n",
    "# Create the map\n",
    "m = create_map(gtfs_data)"
   ]
  },
  {
   "cell_type": "code",
   "execution_count": null,
   "id": "12499010",
   "metadata": {},
   "outputs": [],
   "source": [
    "od_gdf = city2graph.get_od_pairs(gtfs_data, start_date=\"20250401\", end_date=\"20250401\", include_geometry=True, as_generator=False)"
   ]
  },
  {
   "cell_type": "code",
   "execution_count": null,
   "id": "359ebd97",
   "metadata": {},
   "outputs": [],
   "source": [
    "# To iterate over chunks and process/write them immediately\n",
    "for od_chunk in city2graph.get_od_pairs(gtfs_data, as_generator=True, chunk_size=5000):\n",
    "    # Process or write the chunk to disk\n",
    "    print(od_chunk.shape)\n",
    "    # Optionally, write to a file in append mode:\n",
    "    od_chunk.to_csv('gtfs_od_pairs_chunk.csv', mode='a', header=not os.path.exists('gtfs_od_pairs_chunk.csv'), index=False)"
   ]
  }
 ],
 "metadata": {
  "kernelspec": {
   "display_name": "city2graph_env",
   "language": "python",
   "name": "python3"
  },
  "language_info": {
   "codemirror_mode": {
    "name": "ipython",
    "version": 3
   },
   "file_extension": ".py",
   "mimetype": "text/x-python",
   "name": "python",
   "nbconvert_exporter": "python",
   "pygments_lexer": "ipython3",
   "version": "3.12.9"
  }
 },
 "nbformat": 4,
 "nbformat_minor": 5
}
